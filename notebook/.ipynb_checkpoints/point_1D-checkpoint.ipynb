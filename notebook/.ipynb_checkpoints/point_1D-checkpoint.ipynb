{
 "cells": [
  {
   "cell_type": "code",
   "execution_count": 1,
   "id": "6f02be6c-fba0-4ff2-bc3b-7127118a484a",
   "metadata": {},
   "outputs": [],
   "source": [
    "import numpy as np\n",
    "import matplotlib.pyplot as plt"
   ]
  },
  {
   "cell_type": "markdown",
   "id": "4ba0fb29-4348-47bd-8492-4ad7540c12b7",
   "metadata": {},
   "source": [
    "## Plot\n",
    "* Suppose we have two points in one dimensional space with positions $x_1(t)$ and $x_2(t)$ that have same mass $m_1 = m_2$. \n",
    "* Each point has initial velocity $v_1(0) = -v_2(0)$\n",
    "* Simulate the trajectories of the points!"
   ]
  },
  {
   "cell_type": "code",
   "execution_count": 57,
   "id": "322489b5-25cf-4b28-bd88-d07f18aa9f14",
   "metadata": {},
   "outputs": [],
   "source": [
    "n = 2              # number of points\n",
    "m = 1              # mass\n",
    "x = np.zeros(n)    # list of positions\n",
    "v = np.zeros(n)    # list of velocities\n",
    "F = np.ones(n).reshape(1, n)\n",
    "F_n = F"
   ]
  },
  {
   "cell_type": "code",
   "execution_count": 66,
   "id": "c26c8713-2b58-4615-b3a2-94fe24c8a938",
   "metadata": {},
   "outputs": [
    {
     "data": {
      "text/plain": [
       "array([[1., 1.],\n",
       "       [1., 1.],\n",
       "       [1., 1.],\n",
       "       [1., 1.],\n",
       "       [1., 1.],\n",
       "       [1., 1.],\n",
       "       [1., 1.],\n",
       "       [1., 1.],\n",
       "       [1., 1.],\n",
       "       [1., 1.]])"
      ]
     },
     "execution_count": 66,
     "metadata": {},
     "output_type": "execute_result"
    }
   ],
   "source": [
    "F = np.vstack((F, F_n))\n",
    "F"
   ]
  }
 ],
 "metadata": {
  "kernelspec": {
   "display_name": "Python 3 (ipykernel)",
   "language": "python",
   "name": "python3"
  },
  "language_info": {
   "codemirror_mode": {
    "name": "ipython",
    "version": 3
   },
   "file_extension": ".py",
   "mimetype": "text/x-python",
   "name": "python",
   "nbconvert_exporter": "python",
   "pygments_lexer": "ipython3",
   "version": "3.9.1"
  }
 },
 "nbformat": 4,
 "nbformat_minor": 5
}
