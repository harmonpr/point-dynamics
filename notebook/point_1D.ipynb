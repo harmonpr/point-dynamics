{
 "cells": [
  {
   "cell_type": "code",
   "execution_count": 1,
   "id": "6f02be6c-fba0-4ff2-bc3b-7127118a484a",
   "metadata": {},
   "outputs": [],
   "source": [
    "import numpy as np\n",
    "import matplotlib.pyplot as plt"
   ]
  },
  {
   "cell_type": "markdown",
   "id": "4ba0fb29-4348-47bd-8492-4ad7540c12b7",
   "metadata": {},
   "source": [
    "## Scenario 1\n",
    "* Suppose we have two points in one dimensional space with positions $x_1(t)$ and $x_2(t)$ that have same mass $m_1 = m_2$. \n",
    "* Each point has initial velocity $v_1(0) = -v_2(0)$\n",
    "* Simulate the trajectories of the points!"
   ]
  },
  {
   "cell_type": "code",
   "execution_count": 125,
   "id": "322489b5-25cf-4b28-bd88-d07f18aa9f14",
   "metadata": {},
   "outputs": [],
   "source": [
    "n = 2              # number of points\n",
    "m = 1              # mass\n",
    "T = 1\n",
    "dt = 0.1\n",
    "k = int(T/dt)\n",
    "t = np.linspace(0, T, k+1)\n",
    "\n",
    "x = np.zeros(n).reshape(1, n)    # list of positions\n",
    "v = np.zeros(n).reshape(1, n)    # list of velocities"
   ]
  },
  {
   "cell_type": "code",
   "execution_count": 126,
   "id": "c26c8713-2b58-4615-b3a2-94fe24c8a938",
   "metadata": {},
   "outputs": [],
   "source": [
    "# initial configurations\n",
    "x[0] = 0.3, 0.6\n",
    "v[0] = 0.2, -0.2"
   ]
  },
  {
   "cell_type": "code",
   "execution_count": 127,
   "id": "3518cbe7-ba90-40b9-b53c-daefd61e3589",
   "metadata": {},
   "outputs": [],
   "source": [
    "for i in range(k):\n",
    "    \n",
    "    v_ii = v[i] \n",
    "    x_ii = x[i] + dt * v_ii\n",
    "    \n",
    "    v = np.vstack((v, v_ii))\n",
    "    x = np.vstack((x, x_ii))"
   ]
  },
  {
   "cell_type": "code",
   "execution_count": 135,
   "id": "b295570e-bf96-482b-a3dc-238a86a14bd7",
   "metadata": {},
   "outputs": [
    {
     "data": {
      "image/png": "[encoded data removed]",
      "text/plain": [
       "<Figure size 432x288 with 1 Axes>"
      ]
     },
     "metadata": {
      "needs_background": "light"
     },
     "output_type": "display_data"
    }
   ],
   "source": [
    "plt.xlabel('t')\n",
    "plt.ylabel('x')\n",
    "plt.plot(t, x[:, 0])\n",
    "plt.plot(t, x[:, 1])\n",
    "plt.legend(['$x_1$', '$x_2$']);"
   ]
  },
  {
   "cell_type": "markdown",
   "id": "1ff26167-b9ea-4200-b46d-872b9fad1c52",
   "metadata": {},
   "source": [
    "As you can see that our points crossing over. Now we want collision to be happened in our system. In particular, elastic collision will be simulated."
   ]
  },
  {
   "cell_type": "markdown",
   "id": "e5f04c09-1ffb-4f3b-9dd8-c8142902527a",
   "metadata": {},
   "source": []
  },
  {
   "cell_type": "markdown",
   "id": "88cdebd0-85af-4878-a890-d29f2e5ae3f6",
   "metadata": {},
   "source": [
    "## Scenario 2\n",
    "* Implemented elastic collision.\n",
    "* Adding collision algorithm which collision is happened when the distance between two particles d < 0.01."
   ]
  },
  {
   "cell_type": "markdown",
   "id": "ee4c5435-854f-4f57-9cc3-367aacb84254",
   "metadata": {},
   "source": [
    "#### Elastic collision in one dimenssion\n",
    "##### Conservation of momentum\n",
    "Conservation of momentum state that the total momentum, for case of collision, before collision and after the collision is constant. The conservation of two particles follows\n",
    "$$\n",
    "    m_1 \\vec{u_1} + m_2 \\vec{u_2} = m_1 \\vec{v_1} + m_2 \\vec{v_2}\n",
    "$$\n",
    "where the number in supscript indicates the particle, $m$ is the mass of particle, $u$ is the particle velocity before collision, $v$ is the particle velocity after the collision. \n",
    "##### Conservation of kinetic energy\n",
    "Conservation of kinetic energy also state that the total kinetic energy before and after the collision is unchanged. It can be written as follow\n",
    "$$\n",
    "    \\frac{1}{2} m_1 \\vec{u}_1^2 + \\frac{1}{2} m_2 \\vec{u}_2^2 = \\frac{1}{2} m_1 \\vec{v}_1^2 + \\frac{1}{2} m_2 \\vec{v}_2^2\n",
    "$$\n",
    "##### Particles velocity after collision\n",
    "The particle velocity after collision can be derived in this way\n",
    "* Conservation of momentum \n",
    "$$ m_1 (\\vec{u}_1 - \\vec{v}_1)  = m_2 (\\vec{v}_2 - \\vec{u}_2)$$\n",
    "* Conservation of kinetic energy\n",
    "$$ m_1 (\\vec{u}_1 - \\vec{v}_1) (\\vec{u}_1 + \\vec{v}_1) = m_2 (\\vec{v}_2 - \\vec{u}_2) (\\vec{v}_2 + \\vec{u}_2) $$\n",
    "* Divide equation of conservation momentum by conservation of kinetic energy\n",
    "$$ \\vec{v}_1 = \\vec{v}_2 + \\vec{u}_2 - \\vec{u}_1 $$\n",
    "$$ \\vec{v}_2 = \\vec{v}_1 + \\vec{u}_1 - \\vec{u}_2 $$\n",
    "* Subtitute $v_1$ to equation of conservation momentum, also for $v_2$\n",
    "$$ \\vec{v}_1 = \\frac{\\vec{u}_1(m_1 - m_2) + 2 m_2 \\vec{u}_2}{m_1 + m_2} $$\n",
    "$$ \\vec{v}_2 = \\frac{\\vec{u}_2(m_2 - m_1) + 2 m_1 \\vec{u}_1}{m_1 + m_2} $$"
   ]
  },
  {
   "cell_type": "code",
   "execution_count": 57,
   "id": "3074fc94-cad3-4940-afd0-f3149e62409c",
   "metadata": {},
   "outputs": [],
   "source": [
    "n = 2              # number of points\n",
    "m = 1              # mass\n",
    "T = 1\n",
    "dt = 0.01\n",
    "k = int(T/dt)\n",
    "t = np.linspace(0, T, k+1)\n",
    "\n",
    "x = np.zeros(n).reshape(1, n)    # list of positions\n",
    "v = np.zeros(n).reshape(1, n)    # list of velocities"
   ]
  },
  {
   "cell_type": "code",
   "execution_count": 58,
   "id": "8707aa7f-6835-471a-a8d9-f8ef7dc22ddd",
   "metadata": {},
   "outputs": [],
   "source": [
    "# initial configurations\n",
    "x[0] = 0.3, 0.6\n",
    "v[0] = 0.4, -0.4"
   ]
  },
  {
   "cell_type": "code",
   "execution_count": 59,
   "id": "fe57873d-20b5-4c07-b693-2aeba195a4d5",
   "metadata": {},
   "outputs": [],
   "source": [
    "for i in range(k):\n",
    "    \n",
    "    # collision\n",
    "    d = abs(x[i,1] - x[i,0])\n",
    "    if d < 0.01:\n",
    "        u_1 = v[i,0]\n",
    "        u_2 = v[i,1]\n",
    "        v[i,0] = u_2\n",
    "        v[i,1] = u_1\n",
    "    \n",
    "    # explicit Euler\n",
    "    v_ii = v[i] \n",
    "    x_ii = x[i] + dt * v_ii\n",
    "    \n",
    "    v = np.vstack((v, v_ii))\n",
    "    x = np.vstack((x, x_ii))"
   ]
  },
  {
   "cell_type": "code",
   "execution_count": 60,
   "id": "2a3f6dbe-4b2d-4759-a836-65cf37e8d151",
   "metadata": {},
   "outputs": [
    {
     "data": {
      "image/png": "[encoded data removed]",
      "text/plain": [
       "<Figure size 432x288 with 1 Axes>"
      ]
     },
     "metadata": {
      "needs_background": "light"
     },
     "output_type": "display_data"
    }
   ],
   "source": [
    "plt.xlabel('t')\n",
    "plt.ylabel('x')\n",
    "plt.plot(t, x[:, 0])\n",
    "plt.plot(t, x[:, 1])\n",
    "plt.legend(['$x_1$', '$x_2$']);"
   ]
  },
  {
   "cell_type": "code",
   "execution_count": 52,
   "id": "dcd9a9d8-198c-4d78-a88d-a2571418fa06",
   "metadata": {},
   "outputs": [
    {
     "data": {
      "image/png": "[encoded data removed]",
      "text/plain": [
       "<Figure size 432x288 with 1 Axes>"
      ]
     },
     "metadata": {
      "needs_background": "light"
     },
     "output_type": "display_data"
    }
   ],
   "source": [
    "plt.xlabel('t')\n",
    "plt.ylabel('v')\n",
    "plt.plot(t, v[:, 0])\n",
    "plt.plot(t, v[:, 1])\n",
    "plt.legend(['$v_1$', '$v_2$']);"
   ]
  },
  {
   "cell_type": "markdown",
   "id": "3c77125b-706c-467a-9579-75aed374e444",
   "metadata": {},
   "source": [
    "We can observe that velocity switch between two particles. Since the mass of each particle is same and the velocity is swap, these implies that the total momentum and energy of the system is conserved."
   ]
  },
  {
   "cell_type": "code",
   "execution_count": null,
   "id": "1f591df0-a2f1-4615-bfab-56be31ab4267",
   "metadata": {},
   "outputs": [],
   "source": []
  }
 ],
 "metadata": {
  "kernelspec": {
   "display_name": "Python 3 (ipykernel)",
   "language": "python",
   "name": "python3"
  },
  "language_info": {
   "codemirror_mode": {
    "name": "ipython",
    "version": 3
   },
   "file_extension": ".py",
   "mimetype": "text/x-python",
   "name": "python",
   "nbconvert_exporter": "python",
   "pygments_lexer": "ipython3",
   "version": "3.9.1"
  }
 },
 "nbformat": 4,
 "nbformat_minor": 5
}
